{
 "cells": [
  {
   "cell_type": "code",
   "execution_count": 1,
   "id": "61f050f3-e91a-4d71-985e-d10f7fea493e",
   "metadata": {},
   "outputs": [],
   "source": [
    "import cv2\n",
    "import mediapipe as mp\n",
    "import math"
   ]
  },
  {
   "cell_type": "code",
   "execution_count": 2,
   "id": "a6cf809b-42c6-4dfd-95ef-5171e7d57017",
   "metadata": {},
   "outputs": [],
   "source": [
    "# Initialize MediaPipe Pose\n",
    "mp_pose = mp.solutions.pose\n",
    "pose = mp_pose.Pose(min_detection_confidence=0.5, min_tracking_confidence=0.5)"
   ]
  },
  {
   "cell_type": "code",
   "execution_count": 3,
   "id": "d2e3e369-1dbf-4d70-91b1-c04970ae682f",
   "metadata": {},
   "outputs": [],
   "source": [
    "# Function to calculate the angle between three points\n",
    "def calculate_angle(A, B, C):\n",
    "    # Vector AB\n",
    "    AB = [B[0] - A[0], B[1] - A[1]]\n",
    "    # Vector BC\n",
    "    BC = [C[0] - B[0], C[1] - B[1]]\n",
    "\n",
    "    # Dot product of AB and BC\n",
    "    dot_product = AB[0] * BC[0] + AB[1] * BC[1]\n",
    "    # Magnitudes of AB and BC\n",
    "    magnitude_AB = math.sqrt(AB[0]**2 + AB[1]**2)\n",
    "    magnitude_BC = math.sqrt(BC[0]**2 + BC[1]**2)\n",
    "\n",
    "    # Cosine of the angle\n",
    "    cos_theta = dot_product / (magnitude_AB * magnitude_BC)\n",
    "\n",
    "    # Angle in radians\n",
    "    angle_rad = math.acos(cos_theta)\n",
    "    # Convert angle to degrees\n",
    "    angle_deg = math.degrees(angle_rad)\n",
    "\n",
    "    return angle_deg"
   ]
  },
  {
   "cell_type": "code",
   "execution_count": 4,
   "id": "daf3ea6b-a62b-46d6-9668-858da9ebe9c6",
   "metadata": {},
   "outputs": [],
   "source": [
    "# Function to process the image and calculate angles\n",
    "def calculate_pose_angles(image_path):\n",
    "    # Read the image\n",
    "    image = cv2.imread(image_path)\n",
    "    image_rgb = cv2.cvtColor(image, cv2.COLOR_BGR2RGB)\n",
    "\n",
    "    # Get landmarks using MediaPipe Pose\n",
    "    results = pose.process(image_rgb)\n",
    "\n",
    "    if results.pose_landmarks:\n",
    "        landmarks = results.pose_landmarks.landmark\n",
    "\n",
    "        # Extract landmarks\n",
    "        left_shoulder = [landmarks[mp_pose.PoseLandmark.LEFT_SHOULDER.value].x, landmarks[mp_pose.PoseLandmark.LEFT_SHOULDER.value].y]\n",
    "        right_shoulder = [landmarks[mp_pose.PoseLandmark.RIGHT_SHOULDER.value].x, landmarks[mp_pose.PoseLandmark.RIGHT_SHOULDER.value].y]\n",
    "        left_elbow = [landmarks[mp_pose.PoseLandmark.LEFT_ELBOW.value].x, landmarks[mp_pose.PoseLandmark.LEFT_ELBOW.value].y]\n",
    "        right_elbow = [landmarks[mp_pose.PoseLandmark.RIGHT_ELBOW.value].x, landmarks[mp_pose.PoseLandmark.RIGHT_ELBOW.value].y]\n",
    "        left_wrist = [landmarks[mp_pose.PoseLandmark.LEFT_WRIST.value].x, landmarks[mp_pose.PoseLandmark.LEFT_WRIST.value].y]\n",
    "        right_wrist = [landmarks[mp_pose.PoseLandmark.RIGHT_WRIST.value].x, landmarks[mp_pose.PoseLandmark.RIGHT_WRIST.value].y]\n",
    "        left_hip = [landmarks[mp_pose.PoseLandmark.LEFT_HIP.value].x, landmarks[mp_pose.PoseLandmark.LEFT_HIP.value].y]\n",
    "        right_hip = [landmarks[mp_pose.PoseLandmark.RIGHT_HIP.value].x, landmarks[mp_pose.PoseLandmark.RIGHT_HIP.value].y]\n",
    "        left_knee = [landmarks[mp_pose.PoseLandmark.LEFT_KNEE.value].x, landmarks[mp_pose.PoseLandmark.LEFT_KNEE.value].y]\n",
    "        right_knee = [landmarks[mp_pose.PoseLandmark.RIGHT_KNEE.value].x, landmarks[mp_pose.PoseLandmark.RIGHT_KNEE.value].y]\n",
    "        left_ankle = [landmarks[mp_pose.PoseLandmark.LEFT_ANKLE.value].x, landmarks[mp_pose.PoseLandmark.LEFT_ANKLE.value].y]\n",
    "        right_ankle = [landmarks[mp_pose.PoseLandmark.RIGHT_ANKLE.value].x, landmarks[mp_pose.PoseLandmark.RIGHT_ANKLE.value].y]\n",
    "\n",
    "        # Calculate angles\n",
    "        left_elbow_angle = calculate_angle(left_shoulder, left_elbow, left_wrist)\n",
    "        right_elbow_angle = calculate_angle(right_shoulder, right_elbow, right_wrist)\n",
    "        left_shoulder_angle = calculate_angle(left_elbow, left_shoulder, left_hip)\n",
    "        right_shoulder_angle = calculate_angle(right_elbow, right_shoulder, right_hip)\n",
    "        left_knee_angle = calculate_angle(left_hip, left_knee, left_ankle)\n",
    "        right_knee_angle = calculate_angle(right_hip, right_knee, right_ankle)\n",
    "        left_hip_angle = calculate_angle(left_shoulder, left_hip, left_knee)\n",
    "        right_hip_angle = calculate_angle(right_shoulder, right_hip, right_knee)\n",
    "\n",
    "        # Return angles as a dictionary\n",
    "        return {\n",
    "            'left_elbow_angle': left_elbow_angle,\n",
    "            'right_elbow_angle': right_elbow_angle,\n",
    "            'left_shoulder_angle': left_shoulder_angle,\n",
    "            'right_shoulder_angle': right_shoulder_angle,\n",
    "            'left_knee_angle': left_knee_angle,\n",
    "            'right_knee_angle': right_knee_angle,\n",
    "            'left_hip_angle': left_hip_angle,\n",
    "            'right_hip_angle': right_hip_angle\n",
    "        }\n",
    "    else:\n",
    "        return None"
   ]
  },
  {
   "cell_type": "code",
   "execution_count": 7,
   "id": "21805991-ba97-4ea2-9b41-ac0394c78041",
   "metadata": {},
   "outputs": [
    {
     "name": "stdout",
     "output_type": "stream",
     "text": [
      "{'left_elbow_angle': 126.19524913633074, 'right_elbow_angle': 27.897901290229903, 'left_shoulder_angle': 94.40902068484729, 'right_shoulder_angle': 148.9256476821098, 'left_knee_angle': 42.040955986381256, 'right_knee_angle': 18.32160330773023, 'left_hip_angle': 1.4109103453605387, 'right_hip_angle': 15.23718853514561}\n"
     ]
    }
   ],
   "source": [
    "# Example usage\n",
    "image_path = 'C:/Users/HP/Desktop/test_2.jpg'  # Replace with your image path\n",
    "angles = calculate_pose_angles(image_path)\n",
    "\n",
    "if angles:\n",
    "    print(angles)\n",
    "else:\n",
    "    print(\"No landmarks found in the image.\")"
   ]
  },
  {
   "cell_type": "code",
   "execution_count": null,
   "id": "19fe0ade-5f83-47d8-a973-539afd64a8de",
   "metadata": {},
   "outputs": [],
   "source": []
  }
 ],
 "metadata": {
  "kernelspec": {
   "display_name": "Python 3 (ipykernel)",
   "language": "python",
   "name": "python3"
  },
  "language_info": {
   "codemirror_mode": {
    "name": "ipython",
    "version": 3
   },
   "file_extension": ".py",
   "mimetype": "text/x-python",
   "name": "python",
   "nbconvert_exporter": "python",
   "pygments_lexer": "ipython3",
   "version": "3.9.19"
  }
 },
 "nbformat": 4,
 "nbformat_minor": 5
}
