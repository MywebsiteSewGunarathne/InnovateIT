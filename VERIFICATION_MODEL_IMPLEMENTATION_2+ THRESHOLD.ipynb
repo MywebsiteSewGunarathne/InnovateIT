{
 "cells": [
  {
   "cell_type": "code",
   "execution_count": 1,
   "id": "7e19548b-efbb-45ba-80d6-47735143825d",
   "metadata": {},
   "outputs": [],
   "source": [
    "import json\n",
    "import numpy as np\n",
    "import pandas as pd\n",
    "from sklearn.model_selection import train_test_split\n",
    "from sklearn.preprocessing import LabelEncoder\n",
    "import tensorflow as tf\n",
    "from tensorflow.keras.models import Sequential\n",
    "from tensorflow.keras.layers import LSTM, Dense, Dropout, Input"
   ]
  },
  {
   "cell_type": "code",
   "execution_count": 2,
   "id": "15bdf57b-069b-4cb0-afe1-f3693532fad1",
   "metadata": {},
   "outputs": [],
   "source": [
    "# Load data from JSON file\n",
    "file_path = 'C:/Users/HP/Desktop/angles_output_3.json'\n",
    "data = []\n",
    "with open(file_path) as f:\n",
    "    for line in f:\n",
    "        data.append(json.loads(line))"
   ]
  },
  {
   "cell_type": "code",
   "execution_count": 3,
   "id": "50a4eee0-48dd-47d6-9c33-3656f170769d",
   "metadata": {},
   "outputs": [],
   "source": [
    "# Convert JSON data to DataFrame\n",
    "df = pd.DataFrame(data)"
   ]
  },
  {
   "cell_type": "code",
   "execution_count": 4,
   "id": "bbb3eb24-0f9d-478b-931a-7ed28389733a",
   "metadata": {},
   "outputs": [],
   "source": [
    "# Separate features and labels\n",
    "X = df.drop('Label', axis=1).values\n",
    "y = df['Label'].values"
   ]
  },
  {
   "cell_type": "code",
   "execution_count": 5,
   "id": "4587b736-2a84-4312-94a2-0ca74d74d4fd",
   "metadata": {},
   "outputs": [],
   "source": [
    "# Encode labels\n",
    "label_encoder = LabelEncoder()\n",
    "y_encoded = label_encoder.fit_transform(y)"
   ]
  },
  {
   "cell_type": "code",
   "execution_count": 6,
   "id": "5b49d58a-291f-4dbf-9aff-6e20bffb7123",
   "metadata": {},
   "outputs": [],
   "source": [
    "# Train-test split\n",
    "X_train, X_test, y_train, y_test = train_test_split(X, y_encoded, test_size=0.2, random_state=42)\n"
   ]
  },
  {
   "cell_type": "code",
   "execution_count": 7,
   "id": "ed1a5efc-ce48-497f-8f33-4fe874270946",
   "metadata": {},
   "outputs": [],
   "source": [
    "# Reshape data for LSTM\n",
    "X_train_lstm = X_train.reshape((X_train.shape[0], 1, X_train.shape[1]))\n",
    "X_test_lstm = X_test.reshape((X_test.shape[0], 1, X_test.shape[1]))"
   ]
  },
  {
   "cell_type": "code",
   "execution_count": 8,
   "id": "e3d74e54-f49b-41a0-868a-231dc08f7b44",
   "metadata": {},
   "outputs": [],
   "source": [
    "# Build LSTM model\n",
    "lstm_model = Sequential()\n",
    "lstm_model.add(Input(shape=(X_train_lstm.shape[1], X_train_lstm.shape[2])))\n",
    "lstm_model.add(LSTM(50))\n",
    "lstm_model.add(Dropout(0.2))\n",
    "lstm_model.add(Dense(len(label_encoder.classes_), activation='softmax'))"
   ]
  },
  {
   "cell_type": "code",
   "execution_count": 9,
   "id": "81ff8d8d-e529-4f2a-a783-dbaab299bff0",
   "metadata": {},
   "outputs": [],
   "source": [
    "# Compile model\n",
    "lstm_model.compile(optimizer='adam', loss='sparse_categorical_crossentropy', metrics=['accuracy'])"
   ]
  },
  {
   "cell_type": "code",
   "execution_count": 10,
   "id": "0e1c8528-69f8-4434-815a-36b7915fb579",
   "metadata": {},
   "outputs": [
    {
     "name": "stdout",
     "output_type": "stream",
     "text": [
      "Epoch 1/50\n",
      "\u001b[1m24/24\u001b[0m \u001b[32m━━━━━━━━━━━━━━━━━━━━\u001b[0m\u001b[37m\u001b[0m \u001b[1m2s\u001b[0m 12ms/step - accuracy: 0.3546 - loss: 1.5538 - val_accuracy: 0.6667 - val_loss: 1.2972\n",
      "Epoch 2/50\n",
      "\u001b[1m24/24\u001b[0m \u001b[32m━━━━━━━━━━━━━━━━━━━━\u001b[0m\u001b[37m\u001b[0m \u001b[1m0s\u001b[0m 6ms/step - accuracy: 0.6030 - loss: 1.2497 - val_accuracy: 0.7196 - val_loss: 1.1567\n",
      "Epoch 3/50\n",
      "\u001b[1m24/24\u001b[0m \u001b[32m━━━━━━━━━━━━━━━━━━━━\u001b[0m\u001b[37m\u001b[0m \u001b[1m0s\u001b[0m 3ms/step - accuracy: 0.7126 - loss: 1.1261 - val_accuracy: 0.8095 - val_loss: 1.0377\n",
      "Epoch 4/50\n",
      "\u001b[1m24/24\u001b[0m \u001b[32m━━━━━━━━━━━━━━━━━━━━\u001b[0m\u001b[37m\u001b[0m \u001b[1m0s\u001b[0m 3ms/step - accuracy: 0.7825 - loss: 1.0092 - val_accuracy: 0.8201 - val_loss: 0.9295\n",
      "Epoch 5/50\n",
      "\u001b[1m24/24\u001b[0m \u001b[32m━━━━━━━━━━━━━━━━━━━━\u001b[0m\u001b[37m\u001b[0m \u001b[1m0s\u001b[0m 4ms/step - accuracy: 0.7921 - loss: 0.9183 - val_accuracy: 0.8201 - val_loss: 0.8591\n",
      "Epoch 6/50\n",
      "\u001b[1m24/24\u001b[0m \u001b[32m━━━━━━━━━━━━━━━━━━━━\u001b[0m\u001b[37m\u001b[0m \u001b[1m0s\u001b[0m 3ms/step - accuracy: 0.8310 - loss: 0.8413 - val_accuracy: 0.8307 - val_loss: 0.8153\n",
      "Epoch 7/50\n",
      "\u001b[1m24/24\u001b[0m \u001b[32m━━━━━━━━━━━━━━━━━━━━\u001b[0m\u001b[37m\u001b[0m \u001b[1m0s\u001b[0m 3ms/step - accuracy: 0.8551 - loss: 0.7722 - val_accuracy: 0.8730 - val_loss: 0.7650\n",
      "Epoch 8/50\n",
      "\u001b[1m24/24\u001b[0m \u001b[32m━━━━━━━━━━━━━━━━━━━━\u001b[0m\u001b[37m\u001b[0m \u001b[1m0s\u001b[0m 3ms/step - accuracy: 0.8341 - loss: 0.7725 - val_accuracy: 0.8942 - val_loss: 0.7167\n",
      "Epoch 9/50\n",
      "\u001b[1m24/24\u001b[0m \u001b[32m━━━━━━━━━━━━━━━━━━━━\u001b[0m\u001b[37m\u001b[0m \u001b[1m0s\u001b[0m 3ms/step - accuracy: 0.8664 - loss: 0.7113 - val_accuracy: 0.9259 - val_loss: 0.6772\n",
      "Epoch 10/50\n",
      "\u001b[1m24/24\u001b[0m \u001b[32m━━━━━━━━━━━━━━━━━━━━\u001b[0m\u001b[37m\u001b[0m \u001b[1m0s\u001b[0m 4ms/step - accuracy: 0.8858 - loss: 0.6485 - val_accuracy: 0.9048 - val_loss: 0.6210\n",
      "Epoch 11/50\n",
      "\u001b[1m24/24\u001b[0m \u001b[32m━━━━━━━━━━━━━━━━━━━━\u001b[0m\u001b[37m\u001b[0m \u001b[1m0s\u001b[0m 3ms/step - accuracy: 0.8799 - loss: 0.6221 - val_accuracy: 0.9206 - val_loss: 0.5841\n",
      "Epoch 12/50\n",
      "\u001b[1m24/24\u001b[0m \u001b[32m━━━━━━━━━━━━━━━━━━━━\u001b[0m\u001b[37m\u001b[0m \u001b[1m0s\u001b[0m 3ms/step - accuracy: 0.9097 - loss: 0.5605 - val_accuracy: 0.8995 - val_loss: 0.5545\n",
      "Epoch 13/50\n",
      "\u001b[1m24/24\u001b[0m \u001b[32m━━━━━━━━━━━━━━━━━━━━\u001b[0m\u001b[37m\u001b[0m \u001b[1m0s\u001b[0m 2ms/step - accuracy: 0.8987 - loss: 0.5600 - val_accuracy: 0.9101 - val_loss: 0.5207\n",
      "Epoch 14/50\n",
      "\u001b[1m24/24\u001b[0m \u001b[32m━━━━━━━━━━━━━━━━━━━━\u001b[0m\u001b[37m\u001b[0m \u001b[1m0s\u001b[0m 3ms/step - accuracy: 0.9027 - loss: 0.5201 - val_accuracy: 0.9153 - val_loss: 0.4768\n",
      "Epoch 15/50\n",
      "\u001b[1m24/24\u001b[0m \u001b[32m━━━━━━━━━━━━━━━━━━━━\u001b[0m\u001b[37m\u001b[0m \u001b[1m0s\u001b[0m 3ms/step - accuracy: 0.9008 - loss: 0.4777 - val_accuracy: 0.9153 - val_loss: 0.4598\n",
      "Epoch 16/50\n",
      "\u001b[1m24/24\u001b[0m \u001b[32m━━━━━━━━━━━━━━━━━━━━\u001b[0m\u001b[37m\u001b[0m \u001b[1m0s\u001b[0m 3ms/step - accuracy: 0.9184 - loss: 0.4620 - val_accuracy: 0.9259 - val_loss: 0.4392\n",
      "Epoch 17/50\n",
      "\u001b[1m24/24\u001b[0m \u001b[32m━━━━━━━━━━━━━━━━━━━━\u001b[0m\u001b[37m\u001b[0m \u001b[1m0s\u001b[0m 3ms/step - accuracy: 0.9231 - loss: 0.4338 - val_accuracy: 0.9206 - val_loss: 0.4119\n",
      "Epoch 18/50\n",
      "\u001b[1m24/24\u001b[0m \u001b[32m━━━━━━━━━━━━━━━━━━━━\u001b[0m\u001b[37m\u001b[0m \u001b[1m0s\u001b[0m 3ms/step - accuracy: 0.9110 - loss: 0.4321 - val_accuracy: 0.9206 - val_loss: 0.4019\n",
      "Epoch 19/50\n",
      "\u001b[1m24/24\u001b[0m \u001b[32m━━━━━━━━━━━━━━━━━━━━\u001b[0m\u001b[37m\u001b[0m \u001b[1m0s\u001b[0m 3ms/step - accuracy: 0.9276 - loss: 0.4103 - val_accuracy: 0.9259 - val_loss: 0.3815\n",
      "Epoch 20/50\n",
      "\u001b[1m24/24\u001b[0m \u001b[32m━━━━━━━━━━━━━━━━━━━━\u001b[0m\u001b[37m\u001b[0m \u001b[1m0s\u001b[0m 3ms/step - accuracy: 0.9346 - loss: 0.3884 - val_accuracy: 0.9206 - val_loss: 0.3684\n",
      "Epoch 21/50\n",
      "\u001b[1m24/24\u001b[0m \u001b[32m━━━━━━━━━━━━━━━━━━━━\u001b[0m\u001b[37m\u001b[0m \u001b[1m0s\u001b[0m 3ms/step - accuracy: 0.9389 - loss: 0.3705 - val_accuracy: 0.9365 - val_loss: 0.3502\n",
      "Epoch 22/50\n",
      "\u001b[1m24/24\u001b[0m \u001b[32m━━━━━━━━━━━━━━━━━━━━\u001b[0m\u001b[37m\u001b[0m \u001b[1m0s\u001b[0m 3ms/step - accuracy: 0.9300 - loss: 0.3552 - val_accuracy: 0.9259 - val_loss: 0.3353\n",
      "Epoch 23/50\n",
      "\u001b[1m24/24\u001b[0m \u001b[32m━━━━━━━━━━━━━━━━━━━━\u001b[0m\u001b[37m\u001b[0m \u001b[1m0s\u001b[0m 3ms/step - accuracy: 0.9436 - loss: 0.3372 - val_accuracy: 0.9259 - val_loss: 0.3323\n",
      "Epoch 24/50\n",
      "\u001b[1m24/24\u001b[0m \u001b[32m━━━━━━━━━━━━━━━━━━━━\u001b[0m\u001b[37m\u001b[0m \u001b[1m0s\u001b[0m 3ms/step - accuracy: 0.9357 - loss: 0.3495 - val_accuracy: 0.9312 - val_loss: 0.3062\n",
      "Epoch 25/50\n",
      "\u001b[1m24/24\u001b[0m \u001b[32m━━━━━━━━━━━━━━━━━━━━\u001b[0m\u001b[37m\u001b[0m \u001b[1m0s\u001b[0m 3ms/step - accuracy: 0.9406 - loss: 0.3273 - val_accuracy: 0.9206 - val_loss: 0.3220\n",
      "Epoch 26/50\n",
      "\u001b[1m24/24\u001b[0m \u001b[32m━━━━━━━━━━━━━━━━━━━━\u001b[0m\u001b[37m\u001b[0m \u001b[1m0s\u001b[0m 5ms/step - accuracy: 0.9454 - loss: 0.3153 - val_accuracy: 0.9312 - val_loss: 0.3173\n",
      "Epoch 27/50\n",
      "\u001b[1m24/24\u001b[0m \u001b[32m━━━━━━━━━━━━━━━━━━━━\u001b[0m\u001b[37m\u001b[0m \u001b[1m0s\u001b[0m 3ms/step - accuracy: 0.9535 - loss: 0.3125 - val_accuracy: 0.9312 - val_loss: 0.2962\n",
      "Epoch 28/50\n",
      "\u001b[1m24/24\u001b[0m \u001b[32m━━━━━━━━━━━━━━━━━━━━\u001b[0m\u001b[37m\u001b[0m \u001b[1m0s\u001b[0m 3ms/step - accuracy: 0.9443 - loss: 0.3035 - val_accuracy: 0.9365 - val_loss: 0.3010\n",
      "Epoch 29/50\n",
      "\u001b[1m24/24\u001b[0m \u001b[32m━━━━━━━━━━━━━━━━━━━━\u001b[0m\u001b[37m\u001b[0m \u001b[1m0s\u001b[0m 3ms/step - accuracy: 0.9257 - loss: 0.3296 - val_accuracy: 0.9365 - val_loss: 0.2702\n",
      "Epoch 30/50\n",
      "\u001b[1m24/24\u001b[0m \u001b[32m━━━━━━━━━━━━━━━━━━━━\u001b[0m\u001b[37m\u001b[0m \u001b[1m0s\u001b[0m 3ms/step - accuracy: 0.9422 - loss: 0.2672 - val_accuracy: 0.9312 - val_loss: 0.2718\n",
      "Epoch 31/50\n",
      "\u001b[1m24/24\u001b[0m \u001b[32m━━━━━━━━━━━━━━━━━━━━\u001b[0m\u001b[37m\u001b[0m \u001b[1m0s\u001b[0m 3ms/step - accuracy: 0.9296 - loss: 0.2795 - val_accuracy: 0.9418 - val_loss: 0.2575\n",
      "Epoch 32/50\n",
      "\u001b[1m24/24\u001b[0m \u001b[32m━━━━━━━━━━━━━━━━━━━━\u001b[0m\u001b[37m\u001b[0m \u001b[1m0s\u001b[0m 3ms/step - accuracy: 0.9413 - loss: 0.2519 - val_accuracy: 0.9418 - val_loss: 0.2571\n",
      "Epoch 33/50\n",
      "\u001b[1m24/24\u001b[0m \u001b[32m━━━━━━━━━━━━━━━━━━━━\u001b[0m\u001b[37m\u001b[0m \u001b[1m0s\u001b[0m 2ms/step - accuracy: 0.9470 - loss: 0.2745 - val_accuracy: 0.9365 - val_loss: 0.2444\n",
      "Epoch 34/50\n",
      "\u001b[1m24/24\u001b[0m \u001b[32m━━━━━━━━━━━━━━━━━━━━\u001b[0m\u001b[37m\u001b[0m \u001b[1m0s\u001b[0m 3ms/step - accuracy: 0.9362 - loss: 0.2462 - val_accuracy: 0.9418 - val_loss: 0.2402\n",
      "Epoch 35/50\n",
      "\u001b[1m24/24\u001b[0m \u001b[32m━━━━━━━━━━━━━━━━━━━━\u001b[0m\u001b[37m\u001b[0m \u001b[1m0s\u001b[0m 3ms/step - accuracy: 0.9468 - loss: 0.2276 - val_accuracy: 0.9365 - val_loss: 0.2326\n",
      "Epoch 36/50\n",
      "\u001b[1m24/24\u001b[0m \u001b[32m━━━━━━━━━━━━━━━━━━━━\u001b[0m\u001b[37m\u001b[0m \u001b[1m0s\u001b[0m 6ms/step - accuracy: 0.9522 - loss: 0.2192 - val_accuracy: 0.9365 - val_loss: 0.2220\n",
      "Epoch 37/50\n",
      "\u001b[1m24/24\u001b[0m \u001b[32m━━━━━━━━━━━━━━━━━━━━\u001b[0m\u001b[37m\u001b[0m \u001b[1m0s\u001b[0m 3ms/step - accuracy: 0.9506 - loss: 0.2014 - val_accuracy: 0.9312 - val_loss: 0.2236\n",
      "Epoch 38/50\n",
      "\u001b[1m24/24\u001b[0m \u001b[32m━━━━━━━━━━━━━━━━━━━━\u001b[0m\u001b[37m\u001b[0m \u001b[1m0s\u001b[0m 3ms/step - accuracy: 0.9585 - loss: 0.2090 - val_accuracy: 0.9418 - val_loss: 0.2180\n",
      "Epoch 39/50\n",
      "\u001b[1m24/24\u001b[0m \u001b[32m━━━━━━━━━━━━━━━━━━━━\u001b[0m\u001b[37m\u001b[0m \u001b[1m0s\u001b[0m 3ms/step - accuracy: 0.9567 - loss: 0.2230 - val_accuracy: 0.9471 - val_loss: 0.2064\n",
      "Epoch 40/50\n",
      "\u001b[1m24/24\u001b[0m \u001b[32m━━━━━━━━━━━━━━━━━━━━\u001b[0m\u001b[37m\u001b[0m \u001b[1m0s\u001b[0m 3ms/step - accuracy: 0.9396 - loss: 0.2213 - val_accuracy: 0.9418 - val_loss: 0.2143\n",
      "Epoch 41/50\n",
      "\u001b[1m24/24\u001b[0m \u001b[32m━━━━━━━━━━━━━━━━━━━━\u001b[0m\u001b[37m\u001b[0m \u001b[1m0s\u001b[0m 5ms/step - accuracy: 0.9667 - loss: 0.1856 - val_accuracy: 0.9524 - val_loss: 0.2013\n",
      "Epoch 42/50\n",
      "\u001b[1m24/24\u001b[0m \u001b[32m━━━━━━━━━━━━━━━━━━━━\u001b[0m\u001b[37m\u001b[0m \u001b[1m0s\u001b[0m 3ms/step - accuracy: 0.9496 - loss: 0.1985 - val_accuracy: 0.9418 - val_loss: 0.2045\n",
      "Epoch 43/50\n",
      "\u001b[1m24/24\u001b[0m \u001b[32m━━━━━━━━━━━━━━━━━━━━\u001b[0m\u001b[37m\u001b[0m \u001b[1m0s\u001b[0m 5ms/step - accuracy: 0.9618 - loss: 0.1809 - val_accuracy: 0.9418 - val_loss: 0.1994\n",
      "Epoch 44/50\n",
      "\u001b[1m24/24\u001b[0m \u001b[32m━━━━━━━━━━━━━━━━━━━━\u001b[0m\u001b[37m\u001b[0m \u001b[1m0s\u001b[0m 3ms/step - accuracy: 0.9428 - loss: 0.2104 - val_accuracy: 0.9365 - val_loss: 0.2065\n",
      "Epoch 45/50\n",
      "\u001b[1m24/24\u001b[0m \u001b[32m━━━━━━━━━━━━━━━━━━━━\u001b[0m\u001b[37m\u001b[0m \u001b[1m0s\u001b[0m 3ms/step - accuracy: 0.9633 - loss: 0.1987 - val_accuracy: 0.9418 - val_loss: 0.1984\n",
      "Epoch 46/50\n",
      "\u001b[1m24/24\u001b[0m \u001b[32m━━━━━━━━━━━━━━━━━━━━\u001b[0m\u001b[37m\u001b[0m \u001b[1m0s\u001b[0m 3ms/step - accuracy: 0.9630 - loss: 0.1821 - val_accuracy: 0.9471 - val_loss: 0.1947\n",
      "Epoch 47/50\n",
      "\u001b[1m24/24\u001b[0m \u001b[32m━━━━━━━━━━━━━━━━━━━━\u001b[0m\u001b[37m\u001b[0m \u001b[1m0s\u001b[0m 4ms/step - accuracy: 0.9557 - loss: 0.1774 - val_accuracy: 0.9418 - val_loss: 0.1932\n",
      "Epoch 48/50\n",
      "\u001b[1m24/24\u001b[0m \u001b[32m━━━━━━━━━━━━━━━━━━━━\u001b[0m\u001b[37m\u001b[0m \u001b[1m0s\u001b[0m 3ms/step - accuracy: 0.9485 - loss: 0.1956 - val_accuracy: 0.9418 - val_loss: 0.1911\n",
      "Epoch 49/50\n",
      "\u001b[1m24/24\u001b[0m \u001b[32m━━━━━━━━━━━━━━━━━━━━\u001b[0m\u001b[37m\u001b[0m \u001b[1m0s\u001b[0m 3ms/step - accuracy: 0.9553 - loss: 0.1868 - val_accuracy: 0.9524 - val_loss: 0.1823\n",
      "Epoch 50/50\n",
      "\u001b[1m24/24\u001b[0m \u001b[32m━━━━━━━━━━━━━━━━━━━━\u001b[0m\u001b[37m\u001b[0m \u001b[1m0s\u001b[0m 3ms/step - accuracy: 0.9570 - loss: 0.1653 - val_accuracy: 0.9524 - val_loss: 0.1781\n"
     ]
    }
   ],
   "source": [
    "# Train model\n",
    "lstm_history = lstm_model.fit(X_train_lstm, y_train, epochs=50, batch_size=32, validation_data=(X_test_lstm, y_test))"
   ]
  },
  {
   "cell_type": "code",
   "execution_count": 11,
   "id": "26feb574-fbbf-47f9-8d77-072513586f33",
   "metadata": {},
   "outputs": [],
   "source": [
    "# Save the training history\n",
    "with open('training_history.json', 'w') as f:\n",
    "    json.dump(lstm_history.history, f)"
   ]
  },
  {
   "cell_type": "code",
   "execution_count": 12,
   "id": "abcf3415-3669-49cb-8854-30ce47c4b71e",
   "metadata": {},
   "outputs": [
    {
     "name": "stderr",
     "output_type": "stream",
     "text": [
      "WARNING:absl:You are saving your model as an HDF5 file via `model.save()` or `keras.saving.save_model(model)`. This file format is considered legacy. We recommend using instead the native Keras format, e.g. `model.save('my_model.keras')` or `keras.saving.save_model(model, 'my_model.keras')`. \n"
     ]
    }
   ],
   "source": [
    "# Save LSTM model\n",
    "lstm_model.save('verification_model_implementation_2.h5')"
   ]
  },
  {
   "cell_type": "code",
   "execution_count": 1,
   "id": "fa4b53b4-e8c7-46ed-aa50-bfa6ca4a7214",
   "metadata": {},
   "outputs": [],
   "source": [
    "import json\n",
    "import numpy as np\n",
    "import math\n",
    "import cv2\n",
    "import mediapipe as mp\n",
    "from tensorflow.keras.models import load_model"
   ]
  },
  {
   "cell_type": "code",
   "execution_count": 2,
   "id": "8387d956-f9de-49d7-b60f-38f20f38f3a9",
   "metadata": {},
   "outputs": [],
   "source": [
    "# Define angle thresholds for each pose\n",
    "ANGLE_THRESHOLDS = {\n",
    "    'downdog': {\n",
    "        'left_elbow_angle': (150, 200),\n",
    "        'right_elbow_angle': (150, 200),\n",
    "        'left_shoulder_angle': (150, 220),\n",
    "        'right_shoulder_angle': (150, 220),\n",
    "        'left_knee_angle': (140, 200),\n",
    "        'right_knee_angle': (140, 200),\n",
    "        'left_hip_angle': (60, 110),\n",
    "        'right_hip_angle': (60, 110)\n",
    "    },\n",
    "    'goddess': {\n",
    "        'left_elbow_angle': (70, 120),\n",
    "        'right_elbow_angle': (70, 120),\n",
    "        'left_shoulder_angle': (70, 110),\n",
    "        'right_shoulder_angle': (70, 110),\n",
    "        'left_knee_angle': (90, 140),\n",
    "        'right_knee_angle': (90, 140),\n",
    "        'left_hip_angle': (40, 90),\n",
    "        'right_hip_angle': (40, 90)\n",
    "    },\n",
    "    'plank': {\n",
    "        'left_elbow_angle': (160, 180),\n",
    "        'right_elbow_angle': (160, 180),\n",
    "        'left_shoulder_angle': (70, 120),\n",
    "        'right_shoulder_angle': (70, 120),\n",
    "        'left_knee_angle': (160, 180),\n",
    "        'right_knee_angle': (160, 180),\n",
    "        'left_hip_angle': (150, 180),\n",
    "        'right_hip_angle': (150, 180)\n",
    "    },\n",
    "    'warrior2': {\n",
    "        'left_elbow_angle': (160, 180),\n",
    "        'right_elbow_angle': (160, 180),\n",
    "        'left_shoulder_angle': (80, 120),\n",
    "        'right_shoulder_angle': (80, 120),\n",
    "        'left_knee_angle': (80, 120),\n",
    "        'right_knee_angle': (80, 120),\n",
    "        'left_hip_angle': (80, 120),\n",
    "        'right_hip_angle': (80, 120)\n",
    "    },\n",
    "    'tree': {\n",
    "        'left_elbow_angle': (160, 180),\n",
    "        'right_elbow_angle': (160, 180),\n",
    "        'left_shoulder_angle': (70, 120),\n",
    "        'right_shoulder_angle': (70, 120),\n",
    "        'left_knee_angle': (150, 180),\n",
    "        'right_knee_angle': (150, 180),\n",
    "        'left_hip_angle': (80, 120),\n",
    "        'right_hip_angle': (80, 120)\n",
    "    }\n",
    "}"
   ]
  },
  {
   "cell_type": "code",
   "execution_count": 3,
   "id": "2f41a9f3-7a5b-4c1a-bfdb-c8c6c5ec5b9c",
   "metadata": {},
   "outputs": [],
   "source": [
    "# Function to calculate the angle between three points\n",
    "def calculate_angle(a, b, c):\n",
    "    angle = math.degrees(math.atan2(c[1] - b[1], c[0] - b[0]) - math.atan2(a[1] - b[1], a[0] - b[0]))\n",
    "    angle = abs(angle)\n",
    "    if angle > 180.0:\n",
    "        angle = 360 - angle\n",
    "    return angle"
   ]
  },
  {
   "cell_type": "code",
   "execution_count": 4,
   "id": "bbce1606-8b67-4328-84df-55cd40d1c881",
   "metadata": {},
   "outputs": [],
   "source": [
    "# Function to extract joint coordinates from the image and calculate angles\n",
    "def extract_angles_from_image(image_path, return_landmarks=False):\n",
    "    mp_pose = mp.solutions.pose\n",
    "    pose = mp_pose.Pose()\n",
    "    \n",
    "    # Load and process image\n",
    "    image = cv2.imread(image_path)\n",
    "    image_rgb = cv2.cvtColor(image, cv2.COLOR_BGR2RGB)\n",
    "    results = pose.process(image_rgb)\n",
    "\n",
    "    if results.pose_landmarks:\n",
    "        landmarks = results.pose_landmarks.landmark\n",
    "        \n",
    "        # Extract coordinates for key joints\n",
    "        def get_coords(landmark):\n",
    "            return [landmark.x, landmark.y]\n",
    "\n",
    "        left_shoulder = get_coords(landmarks[mp_pose.PoseLandmark.LEFT_SHOULDER])\n",
    "        right_shoulder = get_coords(landmarks[mp_pose.PoseLandmark.RIGHT_SHOULDER])\n",
    "        left_elbow = get_coords(landmarks[mp_pose.PoseLandmark.LEFT_ELBOW])\n",
    "        right_elbow = get_coords(landmarks[mp_pose.PoseLandmark.RIGHT_ELBOW])\n",
    "        left_wrist = get_coords(landmarks[mp_pose.PoseLandmark.LEFT_WRIST])\n",
    "        right_wrist = get_coords(landmarks[mp_pose.PoseLandmark.RIGHT_WRIST])\n",
    "        left_hip = get_coords(landmarks[mp_pose.PoseLandmark.LEFT_HIP])\n",
    "        right_hip = get_coords(landmarks[mp_pose.PoseLandmark.RIGHT_HIP])\n",
    "        left_knee = get_coords(landmarks[mp_pose.PoseLandmark.LEFT_KNEE])\n",
    "        right_knee = get_coords(landmarks[mp_pose.PoseLandmark.RIGHT_KNEE])\n",
    "        left_ankle = get_coords(landmarks[mp_pose.PoseLandmark.LEFT_ANKLE])\n",
    "        right_ankle = get_coords(landmarks[mp_pose.PoseLandmark.RIGHT_ANKLE])\n",
    "\n",
    "        # Calculate angles\n",
    "        angles = {\n",
    "            'left_elbow_angle': calculate_angle(left_shoulder, left_elbow, left_wrist),\n",
    "            'right_elbow_angle': calculate_angle(right_shoulder, right_elbow, right_wrist),\n",
    "            'left_shoulder_angle': calculate_angle(left_elbow, left_shoulder, left_hip),\n",
    "            'right_shoulder_angle': calculate_angle(right_elbow, right_shoulder, right_hip),\n",
    "            'left_knee_angle': calculate_angle(left_hip, left_knee, left_ankle),\n",
    "            'right_knee_angle': calculate_angle(right_hip, right_knee, right_ankle),\n",
    "            'left_hip_angle': calculate_angle(left_shoulder, left_hip, left_knee),\n",
    "            'right_hip_angle': calculate_angle(right_shoulder, right_hip, right_knee)\n",
    "        }\n",
    "\n",
    "        if return_landmarks:\n",
    "            landmarks_dict = {\n",
    "                'left_elbow_angle': (left_shoulder, left_elbow, left_wrist),\n",
    "                'right_elbow_angle': (right_shoulder, right_elbow, right_wrist),\n",
    "                'left_shoulder_angle': (left_elbow, left_shoulder, left_hip),\n",
    "                'right_shoulder_angle': (right_elbow, right_shoulder, right_hip),\n",
    "                'left_knee_angle': (left_hip, left_knee, left_ankle),\n",
    "                'right_knee_angle': (right_hip, right_knee, right_ankle),\n",
    "                'left_hip_angle': (left_shoulder, left_hip, left_knee),\n",
    "                'right_hip_angle': (right_shoulder, right_hip, right_knee)\n",
    "            }\n",
    "            return angles, landmarks_dict\n",
    "        else:\n",
    "            return angles\n",
    "    else:\n",
    "        return None"
   ]
  },
  {
   "cell_type": "code",
   "execution_count": 5,
   "id": "5edde5df-f334-4807-b3a6-65735e0c6781",
   "metadata": {},
   "outputs": [
    {
     "name": "stderr",
     "output_type": "stream",
     "text": [
      "WARNING:absl:Compiled the loaded model, but the compiled metrics have yet to be built. `model.compile_metrics` will be empty until you train or evaluate the model.\n"
     ]
    }
   ],
   "source": [
    "# Load LSTM model\n",
    "model = load_model('verification_model_implementation_2.h5')"
   ]
  },
  {
   "cell_type": "code",
   "execution_count": 6,
   "id": "b0a0e20b-3383-428c-a093-e85b4b08ba8a",
   "metadata": {},
   "outputs": [],
   "source": [
    "# Function to predict pose correctness with a pose label and highlight incorrect angles\n",
    "def predict_pose_correctness(image_path, pose_label):\n",
    "    # Load image and extract angles with landmarks\n",
    "    image = cv2.imread(image_path)\n",
    "    angles, landmarks = extract_angles_from_image(image_path, return_landmarks=True)\n",
    "    \n",
    "    if angles is None:\n",
    "        return f\"No pose landmarks detected for {pose_label}.\"\n",
    "\n",
    "    # Reshape angles for LSTM model\n",
    "    angles_array = np.array(list(angles.values())).reshape(1, 1, len(angles))\n",
    "\n",
    "    # Predict correctness using the model\n",
    "    prediction = model.predict(angles_array)\n",
    "    correctness = prediction[0][0] > 0.5  # Binary classification threshold\n",
    "\n",
    "    if correctness:\n",
    "        return \"yes\"\n",
    "    else:\n",
    "        incorrect_parts = []\n",
    "        incorrect_coords = []  # Store coordinates of incorrect angles\n",
    "\n",
    "        # Check each angle against thresholds\n",
    "        for angle_name, angle_value in angles.items():\n",
    "            if angle_name in ANGLE_THRESHOLDS[pose_label]:  # Ensure it checks only specific pose thresholds\n",
    "                min_threshold, max_threshold = ANGLE_THRESHOLDS[pose_label][angle_name]\n",
    "                if not (min_threshold <= angle_value <= max_threshold):\n",
    "                    incorrect_parts.append(f\"{angle_name} is out of range ({angle_value:.2f}°)\")\n",
    "                    # Store coordinates for the incorrect angle\n",
    "                    point_a, point_b, point_c = landmarks[angle_name]\n",
    "                    incorrect_coords.append((point_a, point_b, point_c))\n",
    "\n",
    "        # Draw circles around incorrect angles in the image\n",
    "        for (point_a, point_b, point_c) in incorrect_coords:\n",
    "            # Convert normalized coordinates to pixel coordinates\n",
    "            height, width, _ = image.shape\n",
    "            pa = (int(point_a[0] * width), int(point_a[1] * height))\n",
    "            pb = (int(point_b[0] * width), int(point_b[1] * height))\n",
    "            pc = (int(point_c[0] * width), int(point_c[1] * height))\n",
    "            \n",
    "            # Draw circles on each of the points involved in the incorrect angle\n",
    "            cv2.circle(image, pa, 5, (0, 0, 255), -1)\n",
    "            cv2.circle(image, pb, 5, (0, 0, 255), -1)\n",
    "            cv2.circle(image, pc, 5, (0, 0, 255), -1)\n",
    "\n",
    "        # Save or display the annotated image as needed\n",
    "        cv2.imwrite(\"output_with_incorrect_angles.jpg\", image)\n",
    "\n",
    "        return \"no\", incorrect_parts"
   ]
  },
  {
   "cell_type": "code",
   "execution_count": 7,
   "id": "0fa5d2c8-c543-43df-aa7b-34afeae09d12",
   "metadata": {},
   "outputs": [
    {
     "name": "stderr",
     "output_type": "stream",
     "text": [
      "C:\\Users\\HP\\anaconda3\\envs\\mediapipe\\lib\\site-packages\\google\\protobuf\\symbol_database.py:55: UserWarning: SymbolDatabase.GetPrototype() is deprecated. Please use message_factory.GetMessageClass() instead. SymbolDatabase.GetPrototype() will be removed soon.\n",
      "  warnings.warn('SymbolDatabase.GetPrototype() is deprecated. Please '\n"
     ]
    },
    {
     "name": "stdout",
     "output_type": "stream",
     "text": [
      "\u001b[1m1/1\u001b[0m \u001b[32m━━━━━━━━━━━━━━━━━━━━\u001b[0m\u001b[37m\u001b[0m \u001b[1m0s\u001b[0m 220ms/step\n",
      "('no', ['left_elbow_angle is out of range (160.07°)', 'right_elbow_angle is out of range (168.10°)', 'left_shoulder_angle is out of range (167.87°)', 'right_shoulder_angle is out of range (171.83°)', 'left_knee_angle is out of range (177.69°)', 'right_knee_angle is out of range (171.84°)', 'left_hip_angle is out of range (168.55°)', 'right_hip_angle is out of range (92.41°)'])\n"
     ]
    }
   ],
   "source": [
    "# Example usage\n",
    "image_path = 'C:/Users/HP/Desktop/test_12.jfif'\n",
    "pose_label = 'goddess'\n",
    "correctness = predict_pose_correctness(image_path, pose_label)\n",
    "print(correctness)"
   ]
  },
  {
   "cell_type": "code",
   "execution_count": null,
   "id": "212eea4f-0bb2-4cd6-9108-8dbb935d003b",
   "metadata": {},
   "outputs": [],
   "source": []
  }
 ],
 "metadata": {
  "kernelspec": {
   "display_name": "Python 3 (ipykernel)",
   "language": "python",
   "name": "python3"
  },
  "language_info": {
   "codemirror_mode": {
    "name": "ipython",
    "version": 3
   },
   "file_extension": ".py",
   "mimetype": "text/x-python",
   "name": "python",
   "nbconvert_exporter": "python",
   "pygments_lexer": "ipython3",
   "version": "3.9.19"
  }
 },
 "nbformat": 4,
 "nbformat_minor": 5
}
