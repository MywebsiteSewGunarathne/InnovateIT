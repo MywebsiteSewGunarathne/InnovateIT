{
 "cells": [
  {
   "cell_type": "code",
   "execution_count": 1,
   "id": "05b097c1-8cd3-4c56-9752-c6eb165eb742",
   "metadata": {},
   "outputs": [],
   "source": [
    "import json\n",
    "import numpy as np\n",
    "import math\n",
    "import cv2\n",
    "import mediapipe as mp\n",
    "from tensorflow.keras.models import load_model"
   ]
  },
  {
   "cell_type": "code",
   "execution_count": 2,
   "id": "f627e7a7-acc3-42a6-b25c-a9456b958c7e",
   "metadata": {},
   "outputs": [],
   "source": [
    "# Define angle thresholds for each pose\n",
    "ANGLE_THRESHOLDS = {\n",
    "    'downdog': {\n",
    "        'left_elbow_angle': (150, 200),\n",
    "        'right_elbow_angle': (150, 200),\n",
    "        'left_shoulder_angle': (150, 220),\n",
    "        'right_shoulder_angle': (150, 220),\n",
    "        'left_knee_angle': (140, 200),\n",
    "        'right_knee_angle': (140, 200),\n",
    "        'left_hip_angle': (60, 110),\n",
    "        'right_hip_angle': (60, 110)\n",
    "    },\n",
    "    'goddess': {\n",
    "        'left_elbow_angle': (70, 120),\n",
    "        'right_elbow_angle': (70, 120),\n",
    "        'left_shoulder_angle': (70, 110),\n",
    "        'right_shoulder_angle': (70, 110),\n",
    "        'left_knee_angle': (90, 140),\n",
    "        'right_knee_angle': (90, 140),\n",
    "        'left_hip_angle': (40, 90),\n",
    "        'right_hip_angle': (40, 90)\n",
    "    },\n",
    "    'plank': {\n",
    "        'left_elbow_angle': (160, 180),\n",
    "        'right_elbow_angle': (160, 180),\n",
    "        'left_shoulder_angle': (70, 120),\n",
    "        'right_shoulder_angle': (70, 120),\n",
    "        'left_knee_angle': (160, 180),\n",
    "        'right_knee_angle': (160, 180),\n",
    "        'left_hip_angle': (150, 180),\n",
    "        'right_hip_angle': (150, 180)\n",
    "    },\n",
    "    'warrior2': {\n",
    "        'left_elbow_angle': (160, 180),\n",
    "        'right_elbow_angle': (160, 180),\n",
    "        'left_shoulder_angle': (80, 120),\n",
    "        'right_shoulder_angle': (80, 120),\n",
    "        'left_knee_angle': (80, 120),\n",
    "        'right_knee_angle': (80, 120),\n",
    "        'left_hip_angle': (80, 120),\n",
    "        'right_hip_angle': (80, 120)\n",
    "    },\n",
    "    'tree': {\n",
    "        'left_elbow_angle': (160, 180),\n",
    "        'right_elbow_angle': (160, 180),\n",
    "        'left_shoulder_angle': (70, 120),\n",
    "        'right_shoulder_angle': (70, 120),\n",
    "        'left_knee_angle': (150, 180),\n",
    "        'right_knee_angle': (150, 180),\n",
    "        'left_hip_angle': (80, 120),\n",
    "        'right_hip_angle': (80, 120)\n",
    "    }\n",
    "}"
   ]
  },
  {
   "cell_type": "code",
   "execution_count": 3,
   "id": "055155e4-7335-48a6-93ac-b25590b6b5f7",
   "metadata": {},
   "outputs": [],
   "source": [
    "# Function to calculate the angle between three points\n",
    "def calculate_angle(a, b, c):\n",
    "    angle = math.degrees(math.atan2(c[1] - b[1], c[0] - b[0]) - math.atan2(a[1] - b[1], a[0] - b[0]))\n",
    "    angle = abs(angle)\n",
    "    if angle > 180.0:\n",
    "        angle = 360 - angle\n",
    "    return angle"
   ]
  },
  {
   "cell_type": "code",
   "execution_count": 4,
   "id": "feca2b9c-41e6-47e2-9fd8-312f2224f7d3",
   "metadata": {},
   "outputs": [],
   "source": [
    "# Function to extract joint coordinates from the image\n",
    "def extract_angles_from_image(image_path):\n",
    "    mp_pose = mp.solutions.pose\n",
    "    pose = mp_pose.Pose()\n",
    "    \n",
    "    # Load and process image\n",
    "    image = cv2.imread(image_path)\n",
    "    image_rgb = cv2.cvtColor(image, cv2.COLOR_BGR2RGB)\n",
    "    results = pose.process(image_rgb)\n",
    "\n",
    "    if results.pose_landmarks:\n",
    "        landmarks = results.pose_landmarks.landmark\n",
    "        # Get coordinates for key joints\n",
    "        left_shoulder = [landmarks[mp_pose.PoseLandmark.LEFT_SHOULDER.value].x, landmarks[mp_pose.PoseLandmark.LEFT_SHOULDER.value].y]\n",
    "        right_shoulder = [landmarks[mp_pose.PoseLandmark.RIGHT_SHOULDER.value].x, landmarks[mp_pose.PoseLandmark.RIGHT_SHOULDER.value].y]\n",
    "        left_elbow = [landmarks[mp_pose.PoseLandmark.LEFT_ELBOW.value].x, landmarks[mp_pose.PoseLandmark.LEFT_ELBOW.value].y]\n",
    "        right_elbow = [landmarks[mp_pose.PoseLandmark.RIGHT_ELBOW.value].x, landmarks[mp_pose.PoseLandmark.RIGHT_ELBOW.value].y]\n",
    "        left_wrist = [landmarks[mp_pose.PoseLandmark.LEFT_WRIST.value].x, landmarks[mp_pose.PoseLandmark.LEFT_WRIST.value].y]\n",
    "        right_wrist = [landmarks[mp_pose.PoseLandmark.RIGHT_WRIST.value].x, landmarks[mp_pose.PoseLandmark.RIGHT_WRIST.value].y]\n",
    "        left_hip = [landmarks[mp_pose.PoseLandmark.LEFT_HIP.value].x, landmarks[mp_pose.PoseLandmark.LEFT_HIP.value].y]\n",
    "        right_hip = [landmarks[mp_pose.PoseLandmark.RIGHT_HIP.value].x, landmarks[mp_pose.PoseLandmark.RIGHT_HIP.value].y]\n",
    "        left_knee = [landmarks[mp_pose.PoseLandmark.LEFT_KNEE.value].x, landmarks[mp_pose.PoseLandmark.LEFT_KNEE.value].y]\n",
    "        right_knee = [landmarks[mp_pose.PoseLandmark.RIGHT_KNEE.value].x, landmarks[mp_pose.PoseLandmark.RIGHT_KNEE.value].y]\n",
    "        left_ankle = [landmarks[mp_pose.PoseLandmark.LEFT_ANKLE.value].x, landmarks[mp_pose.PoseLandmark.LEFT_ANKLE.value].y]\n",
    "        right_ankle = [landmarks[mp_pose.PoseLandmark.RIGHT_ANKLE.value].x, landmarks[mp_pose.PoseLandmark.RIGHT_ANKLE.value].y]\n",
    "\n",
    "        # Calculate angles\n",
    "        angles = {\n",
    "            'left_elbow_angle': calculate_angle(left_shoulder, left_elbow, left_wrist),\n",
    "            'right_elbow_angle': calculate_angle(right_shoulder, right_elbow, right_wrist),\n",
    "            'left_shoulder_angle': calculate_angle(left_elbow, left_shoulder, left_hip),\n",
    "            'right_shoulder_angle': calculate_angle(right_elbow, right_shoulder, right_hip),\n",
    "            'left_knee_angle': calculate_angle(left_hip, left_knee, left_ankle),\n",
    "            'right_knee_angle': calculate_angle(right_hip, right_knee, right_ankle),\n",
    "            'left_hip_angle': calculate_angle(left_shoulder, left_hip, left_knee),\n",
    "            'right_hip_angle': calculate_angle(right_shoulder, right_hip, right_knee)\n",
    "        }\n",
    "        return angles\n",
    "    else:\n",
    "        return None"
   ]
  },
  {
   "cell_type": "code",
   "execution_count": 5,
   "id": "eaa5552f-e1fd-4a19-9edf-0c7256214d81",
   "metadata": {},
   "outputs": [
    {
     "name": "stderr",
     "output_type": "stream",
     "text": [
      "WARNING:absl:Compiled the loaded model, but the compiled metrics have yet to be built. `model.compile_metrics` will be empty until you train or evaluate the model.\n"
     ]
    }
   ],
   "source": [
    "# Load LSTM model\n",
    "model = load_model('verification_model_implementation_2.h5')"
   ]
  },
  {
   "cell_type": "code",
   "execution_count": 36,
   "id": "0f9d53a9-f619-4e51-89a1-f49cf1db12e4",
   "metadata": {},
   "outputs": [],
   "source": [
    "# Function to predict pose correctness with a pose label\n",
    "def predict_pose_correctness(image_path, pose_label):\n",
    "    angles = extract_angles_from_image(image_path)\n",
    "    if angles is None:\n",
    "        return f\"No pose landmarks detected for {pose_label}.\"\n",
    "\n",
    "    # Reshape for LSTM model\n",
    "    angles_array = np.array(list(angles.values())).reshape(1, 1, len(angles))\n",
    "\n",
    "    # Predict using the model\n",
    "    prediction = model.predict(angles_array)\n",
    "    correctness = prediction[0][0] > 0.5  # Binary classification threshold\n",
    "\n",
    "    if correctness:\n",
    "        return \"yes\"\n",
    "    else:\n",
    "        incorrect_parts = []\n",
    "        for angle_name, angle_value in angles.items():\n",
    "            if angle_name in ANGLE_THRESHOLDS:\n",
    "                min_threshold, max_threshold = ANGLE_THRESHOLDS[angle_name]\n",
    "                if not (min_threshold <= angle_value <= max_threshold):\n",
    "                    incorrect_parts.append(f\"{angle_name} is out of range ({angle_value:.2f}°)\")\n",
    "\n",
    "        if incorrect_parts:\n",
    "            return f\"No, issues found: {', '.join(incorrect_parts)}\"\n",
    "        else:\n",
    "            return \"No, but no specific angle issues detected.\""
   ]
  },
  {
   "cell_type": "code",
   "execution_count": 37,
   "id": "b6c3d402-8939-4a1a-b1e0-47757f448d80",
   "metadata": {},
   "outputs": [
    {
     "name": "stdout",
     "output_type": "stream",
     "text": [
      "\u001b[1m1/1\u001b[0m \u001b[32m━━━━━━━━━━━━━━━━━━━━\u001b[0m\u001b[37m\u001b[0m \u001b[1m0s\u001b[0m 24ms/step\n",
      "No, but no specific angle issues detected.\n"
     ]
    }
   ],
   "source": [
    "# Example usage\n",
    "image_path = 'C:/Users/HP/Desktop/test_12.jfif'\n",
    "pose_label = 'Goddess Pose'\n",
    "result = predict_pose_correctness(image_path, pose_label)\n",
    "print(result)"
   ]
  },
  {
   "cell_type": "code",
   "execution_count": null,
   "id": "77b22f62-13dc-4670-8853-19eaed565b40",
   "metadata": {},
   "outputs": [],
   "source": []
  }
 ],
 "metadata": {
  "kernelspec": {
   "display_name": "Python 3 (ipykernel)",
   "language": "python",
   "name": "python3"
  },
  "language_info": {
   "codemirror_mode": {
    "name": "ipython",
    "version": 3
   },
   "file_extension": ".py",
   "mimetype": "text/x-python",
   "name": "python",
   "nbconvert_exporter": "python",
   "pygments_lexer": "ipython3",
   "version": "3.9.19"
  }
 },
 "nbformat": 4,
 "nbformat_minor": 5
}
